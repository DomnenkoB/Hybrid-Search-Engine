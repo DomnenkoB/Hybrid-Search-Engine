{
 "cells": [
  {
   "cell_type": "code",
   "execution_count": 1,
   "metadata": {},
   "outputs": [],
   "source": [
    "import time"
   ]
  },
  {
   "cell_type": "code",
   "execution_count": 2,
   "metadata": {},
   "outputs": [],
   "source": [
    "import pandas as pd\n",
    "import numpy as np"
   ]
  },
  {
   "cell_type": "code",
   "execution_count": 3,
   "metadata": {},
   "outputs": [
    {
     "name": "stderr",
     "output_type": "stream",
     "text": [
      "d:\\projects\\hse\\hybrid-search-engine\\lib\\site-packages\\fuzzywuzzy\\fuzz.py:11: UserWarning: Using slow pure-python SequenceMatcher. Install python-Levenshtein to remove this warning\n",
      "  warnings.warn('Using slow pure-python SequenceMatcher. Install python-Levenshtein to remove this warning')\n"
     ]
    }
   ],
   "source": [
    "from hybrid_search_engine.index import build_index_from_df\n",
    "from hybrid_search_engine.search_engine import SearchEngine"
   ]
  },
  {
   "cell_type": "code",
   "execution_count": 4,
   "metadata": {},
   "outputs": [],
   "source": [
    "meta_df = pd.read_csv(\"data/metadata.csv\")"
   ]
  },
  {
   "cell_type": "code",
   "execution_count": null,
   "metadata": {},
   "outputs": [],
   "source": [
    "meta_df.head(5)"
   ]
  },
  {
   "cell_type": "code",
   "execution_count": 5,
   "metadata": {},
   "outputs": [],
   "source": [
    "# sample_df = meta_df.sample(frac=0.01).copy(deep=True)\n",
    "# sample_df.index = np.arange(len(sample_df))\n",
    "# sample_df.set_index(\"cord_uid\", inplace=True)\n",
    "\n",
    "sample_df = meta_df.copy(deep=True)"
   ]
  },
  {
   "cell_type": "code",
   "execution_count": 6,
   "metadata": {},
   "outputs": [
    {
     "data": {
      "text/html": [
       "<div>\n",
       "<style scoped>\n",
       "    .dataframe tbody tr th:only-of-type {\n",
       "        vertical-align: middle;\n",
       "    }\n",
       "\n",
       "    .dataframe tbody tr th {\n",
       "        vertical-align: top;\n",
       "    }\n",
       "\n",
       "    .dataframe thead th {\n",
       "        text-align: right;\n",
       "    }\n",
       "</style>\n",
       "<table border=\"1\" class=\"dataframe\">\n",
       "  <thead>\n",
       "    <tr style=\"text-align: right;\">\n",
       "      <th></th>\n",
       "      <th>cord_uid</th>\n",
       "      <th>sha</th>\n",
       "      <th>source_x</th>\n",
       "      <th>title</th>\n",
       "      <th>doi</th>\n",
       "      <th>pmcid</th>\n",
       "      <th>pubmed_id</th>\n",
       "      <th>license</th>\n",
       "      <th>abstract</th>\n",
       "      <th>publish_time</th>\n",
       "      <th>authors</th>\n",
       "      <th>journal</th>\n",
       "      <th>Microsoft Academic Paper ID</th>\n",
       "      <th>WHO #Covidence</th>\n",
       "      <th>has_pdf_parse</th>\n",
       "      <th>has_pmc_xml_parse</th>\n",
       "      <th>full_text_file</th>\n",
       "      <th>url</th>\n",
       "    </tr>\n",
       "  </thead>\n",
       "  <tbody>\n",
       "    <tr>\n",
       "      <th>0</th>\n",
       "      <td>xqhn0vbp</td>\n",
       "      <td>1e1286db212100993d03cc22374b624f7caee956</td>\n",
       "      <td>PMC</td>\n",
       "      <td>Airborne rhinovirus detection and effect of ul...</td>\n",
       "      <td>10.1186/1471-2458-3-5</td>\n",
       "      <td>PMC140314</td>\n",
       "      <td>12525263.0</td>\n",
       "      <td>no-cc</td>\n",
       "      <td>BACKGROUND: Rhinovirus, the most common cause ...</td>\n",
       "      <td>2003-01-13</td>\n",
       "      <td>Myatt, Theodore A; Johnston, Sebastian L; Rudn...</td>\n",
       "      <td>BMC Public Health</td>\n",
       "      <td>NaN</td>\n",
       "      <td>NaN</td>\n",
       "      <td>True</td>\n",
       "      <td>True</td>\n",
       "      <td>custom_license</td>\n",
       "      <td>https://www.ncbi.nlm.nih.gov/pmc/articles/PMC1...</td>\n",
       "    </tr>\n",
       "    <tr>\n",
       "      <th>1</th>\n",
       "      <td>gi6uaa83</td>\n",
       "      <td>8ae137c8da1607b3a8e4c946c07ca8bda67f88ac</td>\n",
       "      <td>PMC</td>\n",
       "      <td>Discovering human history from stomach bacteria</td>\n",
       "      <td>10.1186/gb-2003-4-5-213</td>\n",
       "      <td>PMC156578</td>\n",
       "      <td>12734001.0</td>\n",
       "      <td>no-cc</td>\n",
       "      <td>Recent analyses of human pathogens have reveal...</td>\n",
       "      <td>2003-04-28</td>\n",
       "      <td>Disotell, Todd R</td>\n",
       "      <td>Genome Biol</td>\n",
       "      <td>NaN</td>\n",
       "      <td>NaN</td>\n",
       "      <td>True</td>\n",
       "      <td>True</td>\n",
       "      <td>custom_license</td>\n",
       "      <td>https://www.ncbi.nlm.nih.gov/pmc/articles/PMC1...</td>\n",
       "    </tr>\n",
       "    <tr>\n",
       "      <th>2</th>\n",
       "      <td>le0ogx1s</td>\n",
       "      <td>NaN</td>\n",
       "      <td>PMC</td>\n",
       "      <td>A new recruit for the army of the men of death</td>\n",
       "      <td>10.1186/gb-2003-4-7-113</td>\n",
       "      <td>PMC193621</td>\n",
       "      <td>12844350.0</td>\n",
       "      <td>no-cc</td>\n",
       "      <td>The army of the men of death, in John Bunyan's...</td>\n",
       "      <td>2003-06-27</td>\n",
       "      <td>Petsko, Gregory A</td>\n",
       "      <td>Genome Biol</td>\n",
       "      <td>NaN</td>\n",
       "      <td>NaN</td>\n",
       "      <td>False</td>\n",
       "      <td>True</td>\n",
       "      <td>custom_license</td>\n",
       "      <td>https://www.ncbi.nlm.nih.gov/pmc/articles/PMC1...</td>\n",
       "    </tr>\n",
       "    <tr>\n",
       "      <th>3</th>\n",
       "      <td>fy4w7xz8</td>\n",
       "      <td>0104f6ceccf92ae8567a0102f89cbb976969a774</td>\n",
       "      <td>PMC</td>\n",
       "      <td>Association of HLA class I with severe acute r...</td>\n",
       "      <td>10.1186/1471-2350-4-9</td>\n",
       "      <td>PMC212558</td>\n",
       "      <td>12969506.0</td>\n",
       "      <td>no-cc</td>\n",
       "      <td>BACKGROUND: The human leukocyte antigen (HLA) ...</td>\n",
       "      <td>2003-09-12</td>\n",
       "      <td>Lin, Marie; Tseng, Hsiang-Kuang; Trejaut, Jean...</td>\n",
       "      <td>BMC Med Genet</td>\n",
       "      <td>NaN</td>\n",
       "      <td>NaN</td>\n",
       "      <td>True</td>\n",
       "      <td>True</td>\n",
       "      <td>custom_license</td>\n",
       "      <td>https://www.ncbi.nlm.nih.gov/pmc/articles/PMC2...</td>\n",
       "    </tr>\n",
       "    <tr>\n",
       "      <th>4</th>\n",
       "      <td>0qaoam29</td>\n",
       "      <td>5b68a553a7cbbea13472721cd1ad617d42b40c26</td>\n",
       "      <td>PMC</td>\n",
       "      <td>A double epidemic model for the SARS propagation</td>\n",
       "      <td>10.1186/1471-2334-3-19</td>\n",
       "      <td>PMC222908</td>\n",
       "      <td>12964944.0</td>\n",
       "      <td>no-cc</td>\n",
       "      <td>BACKGROUND: An epidemic of a Severe Acute Resp...</td>\n",
       "      <td>2003-09-10</td>\n",
       "      <td>Ng, Tuen Wai; Turinici, Gabriel; Danchin, Antoine</td>\n",
       "      <td>BMC Infect Dis</td>\n",
       "      <td>NaN</td>\n",
       "      <td>NaN</td>\n",
       "      <td>True</td>\n",
       "      <td>True</td>\n",
       "      <td>custom_license</td>\n",
       "      <td>https://www.ncbi.nlm.nih.gov/pmc/articles/PMC2...</td>\n",
       "    </tr>\n",
       "    <tr>\n",
       "      <th>...</th>\n",
       "      <td>...</td>\n",
       "      <td>...</td>\n",
       "      <td>...</td>\n",
       "      <td>...</td>\n",
       "      <td>...</td>\n",
       "      <td>...</td>\n",
       "      <td>...</td>\n",
       "      <td>...</td>\n",
       "      <td>...</td>\n",
       "      <td>...</td>\n",
       "      <td>...</td>\n",
       "      <td>...</td>\n",
       "      <td>...</td>\n",
       "      <td>...</td>\n",
       "      <td>...</td>\n",
       "      <td>...</td>\n",
       "      <td>...</td>\n",
       "      <td>...</td>\n",
       "    </tr>\n",
       "    <tr>\n",
       "      <th>51073</th>\n",
       "      <td>4xhcamks</td>\n",
       "      <td>e14e7f6ffed1a74954167e4fb52d1b2f156171cd</td>\n",
       "      <td>Elsevier</td>\n",
       "      <td>Prevalence of antibodies against transmissible...</td>\n",
       "      <td>10.1016/j.vas.2018.11.003</td>\n",
       "      <td>PMC7104163</td>\n",
       "      <td>NaN</td>\n",
       "      <td>els-covid</td>\n",
       "      <td>Abstract Transmissible gastroenteritis (TGE) i...</td>\n",
       "      <td>2019-06-30</td>\n",
       "      <td>Valkó, Anna; Bálint, Ádám; Bozsa, Ágnes; Cságo...</td>\n",
       "      <td>Veterinary and Animal Science</td>\n",
       "      <td>NaN</td>\n",
       "      <td>NaN</td>\n",
       "      <td>True</td>\n",
       "      <td>False</td>\n",
       "      <td>custom_license</td>\n",
       "      <td>https://doi.org/10.1016/j.vas.2018.11.003</td>\n",
       "    </tr>\n",
       "    <tr>\n",
       "      <th>51074</th>\n",
       "      <td>z2rqz3jx</td>\n",
       "      <td>9550137f5e105d2dbc14d91659a8c3cdd815c9b1</td>\n",
       "      <td>Elsevier</td>\n",
       "      <td>Can we increase public awareness without creat...</td>\n",
       "      <td>10.1016/j.pec.2013.10.023</td>\n",
       "      <td>PMC7119035</td>\n",
       "      <td>24284163.0</td>\n",
       "      <td>els-covid</td>\n",
       "      <td>NaN</td>\n",
       "      <td>2014-02-28</td>\n",
       "      <td>Al Turki, Yousef Abdullah</td>\n",
       "      <td>Patient Education and Counseling</td>\n",
       "      <td>NaN</td>\n",
       "      <td>NaN</td>\n",
       "      <td>True</td>\n",
       "      <td>False</td>\n",
       "      <td>custom_license</td>\n",
       "      <td>https://doi.org/10.1016/j.pec.2013.10.023</td>\n",
       "    </tr>\n",
       "    <tr>\n",
       "      <th>51075</th>\n",
       "      <td>wncuc903</td>\n",
       "      <td>2b3a3e3956afd65a8fa11d3867da3e58f8915514</td>\n",
       "      <td>Elsevier</td>\n",
       "      <td>Fast degrading polyesters as siRNA nano-carrie...</td>\n",
       "      <td>10.1016/j.jconrel.2008.06.010</td>\n",
       "      <td>PMC7125568</td>\n",
       "      <td>18619502.0</td>\n",
       "      <td>els-covid</td>\n",
       "      <td>Abstract A potential siRNA carrier for pulmona...</td>\n",
       "      <td>2008-12-18</td>\n",
       "      <td>Nguyen, Juliane; Steele, Terry W.J.; Merkel, O...</td>\n",
       "      <td>Journal of Controlled Release</td>\n",
       "      <td>NaN</td>\n",
       "      <td>NaN</td>\n",
       "      <td>True</td>\n",
       "      <td>False</td>\n",
       "      <td>custom_license</td>\n",
       "      <td>https://doi.org/10.1016/j.jconrel.2008.06.010</td>\n",
       "    </tr>\n",
       "    <tr>\n",
       "      <th>51076</th>\n",
       "      <td>4x1ckr2i</td>\n",
       "      <td>a67dae6e5f2b58a6f16aaed4011c694f9e64dd88</td>\n",
       "      <td>Elsevier</td>\n",
       "      <td>eIF3f: A central regulator of the antagonism a...</td>\n",
       "      <td>10.1016/j.biocel.2013.06.001</td>\n",
       "      <td>PMC7108353</td>\n",
       "      <td>23769948.0</td>\n",
       "      <td>els-covid</td>\n",
       "      <td>Abstract The eukaryotic initiation factor 3 su...</td>\n",
       "      <td>2013-10-31</td>\n",
       "      <td>Sanchez, Anthony M.J.; Csibi, Alfredo; Raibon,...</td>\n",
       "      <td>The International Journal of Biochemistry &amp; Ce...</td>\n",
       "      <td>NaN</td>\n",
       "      <td>NaN</td>\n",
       "      <td>True</td>\n",
       "      <td>False</td>\n",
       "      <td>custom_license</td>\n",
       "      <td>https://doi.org/10.1016/j.biocel.2013.06.001</td>\n",
       "    </tr>\n",
       "    <tr>\n",
       "      <th>51077</th>\n",
       "      <td>1peoakxt</td>\n",
       "      <td>NaN</td>\n",
       "      <td>Elsevier</td>\n",
       "      <td>The pathogenic role of virus-specific antibody...</td>\n",
       "      <td>10.1016/0165-5728(91)91228-5</td>\n",
       "      <td>PMC7119703</td>\n",
       "      <td>NaN</td>\n",
       "      <td>els-covid</td>\n",
       "      <td>NaN</td>\n",
       "      <td>1991-12-31</td>\n",
       "      <td>Schwender, S.; Imrich, H.; Dörries, R.</td>\n",
       "      <td>Journal of Neuroimmunology</td>\n",
       "      <td>NaN</td>\n",
       "      <td>NaN</td>\n",
       "      <td>False</td>\n",
       "      <td>False</td>\n",
       "      <td>custom_license</td>\n",
       "      <td>https://doi.org/10.1016/0165-5728(91)91228-5</td>\n",
       "    </tr>\n",
       "  </tbody>\n",
       "</table>\n",
       "<p>51078 rows × 18 columns</p>\n",
       "</div>"
      ],
      "text/plain": [
       "       cord_uid                                       sha  source_x  \\\n",
       "0      xqhn0vbp  1e1286db212100993d03cc22374b624f7caee956       PMC   \n",
       "1      gi6uaa83  8ae137c8da1607b3a8e4c946c07ca8bda67f88ac       PMC   \n",
       "2      le0ogx1s                                       NaN       PMC   \n",
       "3      fy4w7xz8  0104f6ceccf92ae8567a0102f89cbb976969a774       PMC   \n",
       "4      0qaoam29  5b68a553a7cbbea13472721cd1ad617d42b40c26       PMC   \n",
       "...         ...                                       ...       ...   \n",
       "51073  4xhcamks  e14e7f6ffed1a74954167e4fb52d1b2f156171cd  Elsevier   \n",
       "51074  z2rqz3jx  9550137f5e105d2dbc14d91659a8c3cdd815c9b1  Elsevier   \n",
       "51075  wncuc903  2b3a3e3956afd65a8fa11d3867da3e58f8915514  Elsevier   \n",
       "51076  4x1ckr2i  a67dae6e5f2b58a6f16aaed4011c694f9e64dd88  Elsevier   \n",
       "51077  1peoakxt                                       NaN  Elsevier   \n",
       "\n",
       "                                                   title  \\\n",
       "0      Airborne rhinovirus detection and effect of ul...   \n",
       "1        Discovering human history from stomach bacteria   \n",
       "2         A new recruit for the army of the men of death   \n",
       "3      Association of HLA class I with severe acute r...   \n",
       "4       A double epidemic model for the SARS propagation   \n",
       "...                                                  ...   \n",
       "51073  Prevalence of antibodies against transmissible...   \n",
       "51074  Can we increase public awareness without creat...   \n",
       "51075  Fast degrading polyesters as siRNA nano-carrie...   \n",
       "51076  eIF3f: A central regulator of the antagonism a...   \n",
       "51077  The pathogenic role of virus-specific antibody...   \n",
       "\n",
       "                                 doi       pmcid   pubmed_id    license  \\\n",
       "0              10.1186/1471-2458-3-5   PMC140314  12525263.0      no-cc   \n",
       "1            10.1186/gb-2003-4-5-213   PMC156578  12734001.0      no-cc   \n",
       "2            10.1186/gb-2003-4-7-113   PMC193621  12844350.0      no-cc   \n",
       "3              10.1186/1471-2350-4-9   PMC212558  12969506.0      no-cc   \n",
       "4             10.1186/1471-2334-3-19   PMC222908  12964944.0      no-cc   \n",
       "...                              ...         ...         ...        ...   \n",
       "51073      10.1016/j.vas.2018.11.003  PMC7104163         NaN  els-covid   \n",
       "51074      10.1016/j.pec.2013.10.023  PMC7119035  24284163.0  els-covid   \n",
       "51075  10.1016/j.jconrel.2008.06.010  PMC7125568  18619502.0  els-covid   \n",
       "51076   10.1016/j.biocel.2013.06.001  PMC7108353  23769948.0  els-covid   \n",
       "51077   10.1016/0165-5728(91)91228-5  PMC7119703         NaN  els-covid   \n",
       "\n",
       "                                                abstract publish_time  \\\n",
       "0      BACKGROUND: Rhinovirus, the most common cause ...   2003-01-13   \n",
       "1      Recent analyses of human pathogens have reveal...   2003-04-28   \n",
       "2      The army of the men of death, in John Bunyan's...   2003-06-27   \n",
       "3      BACKGROUND: The human leukocyte antigen (HLA) ...   2003-09-12   \n",
       "4      BACKGROUND: An epidemic of a Severe Acute Resp...   2003-09-10   \n",
       "...                                                  ...          ...   \n",
       "51073  Abstract Transmissible gastroenteritis (TGE) i...   2019-06-30   \n",
       "51074                                                NaN   2014-02-28   \n",
       "51075  Abstract A potential siRNA carrier for pulmona...   2008-12-18   \n",
       "51076  Abstract The eukaryotic initiation factor 3 su...   2013-10-31   \n",
       "51077                                                NaN   1991-12-31   \n",
       "\n",
       "                                                 authors  \\\n",
       "0      Myatt, Theodore A; Johnston, Sebastian L; Rudn...   \n",
       "1                                       Disotell, Todd R   \n",
       "2                                      Petsko, Gregory A   \n",
       "3      Lin, Marie; Tseng, Hsiang-Kuang; Trejaut, Jean...   \n",
       "4      Ng, Tuen Wai; Turinici, Gabriel; Danchin, Antoine   \n",
       "...                                                  ...   \n",
       "51073  Valkó, Anna; Bálint, Ádám; Bozsa, Ágnes; Cságo...   \n",
       "51074                          Al Turki, Yousef Abdullah   \n",
       "51075  Nguyen, Juliane; Steele, Terry W.J.; Merkel, O...   \n",
       "51076  Sanchez, Anthony M.J.; Csibi, Alfredo; Raibon,...   \n",
       "51077             Schwender, S.; Imrich, H.; Dörries, R.   \n",
       "\n",
       "                                                 journal  \\\n",
       "0                                      BMC Public Health   \n",
       "1                                            Genome Biol   \n",
       "2                                            Genome Biol   \n",
       "3                                          BMC Med Genet   \n",
       "4                                         BMC Infect Dis   \n",
       "...                                                  ...   \n",
       "51073                      Veterinary and Animal Science   \n",
       "51074                   Patient Education and Counseling   \n",
       "51075                      Journal of Controlled Release   \n",
       "51076  The International Journal of Biochemistry & Ce...   \n",
       "51077                         Journal of Neuroimmunology   \n",
       "\n",
       "       Microsoft Academic Paper ID WHO #Covidence  has_pdf_parse  \\\n",
       "0                              NaN            NaN           True   \n",
       "1                              NaN            NaN           True   \n",
       "2                              NaN            NaN          False   \n",
       "3                              NaN            NaN           True   \n",
       "4                              NaN            NaN           True   \n",
       "...                            ...            ...            ...   \n",
       "51073                          NaN            NaN           True   \n",
       "51074                          NaN            NaN           True   \n",
       "51075                          NaN            NaN           True   \n",
       "51076                          NaN            NaN           True   \n",
       "51077                          NaN            NaN          False   \n",
       "\n",
       "       has_pmc_xml_parse  full_text_file  \\\n",
       "0                   True  custom_license   \n",
       "1                   True  custom_license   \n",
       "2                   True  custom_license   \n",
       "3                   True  custom_license   \n",
       "4                   True  custom_license   \n",
       "...                  ...             ...   \n",
       "51073              False  custom_license   \n",
       "51074              False  custom_license   \n",
       "51075              False  custom_license   \n",
       "51076              False  custom_license   \n",
       "51077              False  custom_license   \n",
       "\n",
       "                                                     url  \n",
       "0      https://www.ncbi.nlm.nih.gov/pmc/articles/PMC1...  \n",
       "1      https://www.ncbi.nlm.nih.gov/pmc/articles/PMC1...  \n",
       "2      https://www.ncbi.nlm.nih.gov/pmc/articles/PMC1...  \n",
       "3      https://www.ncbi.nlm.nih.gov/pmc/articles/PMC2...  \n",
       "4      https://www.ncbi.nlm.nih.gov/pmc/articles/PMC2...  \n",
       "...                                                  ...  \n",
       "51073          https://doi.org/10.1016/j.vas.2018.11.003  \n",
       "51074          https://doi.org/10.1016/j.pec.2013.10.023  \n",
       "51075      https://doi.org/10.1016/j.jconrel.2008.06.010  \n",
       "51076       https://doi.org/10.1016/j.biocel.2013.06.001  \n",
       "51077       https://doi.org/10.1016/0165-5728(91)91228-5  \n",
       "\n",
       "[51078 rows x 18 columns]"
      ]
     },
     "execution_count": 6,
     "metadata": {},
     "output_type": "execute_result"
    }
   ],
   "source": [
    "sample_df"
   ]
  },
  {
   "cell_type": "code",
   "execution_count": 7,
   "metadata": {},
   "outputs": [
    {
     "name": "stdout",
     "output_type": "stream",
     "text": [
      "--- 958.0643656253815 seconds ---\n"
     ]
    }
   ],
   "source": [
    "text_cols = [\"title\", \"abstract\"]\n",
    "id_column = \"cord_uid\"\n",
    "\n",
    "start_time = time.time()\n",
    "\n",
    "index_df, documents_df = build_index_from_df(sample_df, columns=text_cols, id_column=id_column, filtering_columns=[])\n",
    "\n",
    "execution_time = time.time() - start_time\n",
    "\n",
    "print(\"--- %s seconds ---\" % execution_time)"
   ]
  },
  {
   "cell_type": "code",
   "execution_count": 8,
   "metadata": {},
   "outputs": [],
   "source": [
    "cols = [[\"token\", \"title\", \"title TF\", \"abstract\", \"abstract TF\"]]"
   ]
  },
  {
   "cell_type": "code",
   "execution_count": 9,
   "metadata": {},
   "outputs": [],
   "source": [
    "index_df.to_csv(\"data/index_df.tsv\", sep=\"\\t\", index=False)"
   ]
  },
  {
   "cell_type": "code",
   "execution_count": 34,
   "metadata": {},
   "outputs": [],
   "source": [
    "documents_df.to_csv(\"data/documents_df.tsv\", sep=\"\\t\", index=False)"
   ]
  },
  {
   "cell_type": "code",
   "execution_count": 36,
   "metadata": {},
   "outputs": [
    {
     "data": {
      "text/html": [
       "<div>\n",
       "<style scoped>\n",
       "    .dataframe tbody tr th:only-of-type {\n",
       "        vertical-align: middle;\n",
       "    }\n",
       "\n",
       "    .dataframe tbody tr th {\n",
       "        vertical-align: top;\n",
       "    }\n",
       "\n",
       "    .dataframe thead th {\n",
       "        text-align: right;\n",
       "    }\n",
       "</style>\n",
       "<table border=\"1\" class=\"dataframe\">\n",
       "  <thead>\n",
       "    <tr style=\"text-align: right;\">\n",
       "      <th></th>\n",
       "      <th>token</th>\n",
       "      <th>token vector</th>\n",
       "      <th>title</th>\n",
       "      <th>title TF</th>\n",
       "      <th>abstract</th>\n",
       "      <th>abstract TF</th>\n",
       "    </tr>\n",
       "  </thead>\n",
       "  <tbody>\n",
       "    <tr>\n",
       "      <th>0</th>\n",
       "      <td>airborne</td>\n",
       "      <td>[-0.02631762, 0.028373985, -0.038450412, -0.06...</td>\n",
       "      <td>[0, 769, 1850, 1887, 1904, 2169, 3153, 4398, 4...</td>\n",
       "      <td>[1, 1, 1, 1, 1, 1, 1, 1, 2, 1, 1, 1, 1, 1, 1, ...</td>\n",
       "      <td>[0, 769, 863, 1161, 1390, 1850, 1904, 2169, 23...</td>\n",
       "      <td>[3, 1, 2, 1, 1, 5, 1, 6, 2, 1, 2, 4, 5, 1, 1, ...</td>\n",
       "    </tr>\n",
       "    <tr>\n",
       "      <th>1</th>\n",
       "      <td>assay</td>\n",
       "      <td>[0.09331236, -0.068221055, -0.0042497874, 0.09...</td>\n",
       "      <td>[0, 46, 48, 76, 148, 215, 294, 523, 551, 583, ...</td>\n",
       "      <td>[1, 1, 1, 1, 1, 1, 1, 1, 1, 1, 1, 1, 1, 1, 1, ...</td>\n",
       "      <td>[0, 26, 46, 48, 70, 76, 84, 93, 101, 119, 128,...</td>\n",
       "      <td>[1, 2, 2, 1, 2, 2, 1, 2, 1, 4, 1, 1, 1, 6, 9, ...</td>\n",
       "    </tr>\n",
       "    <tr>\n",
       "      <th>2</th>\n",
       "      <td>detection</td>\n",
       "      <td>[0.0061361627, -0.13328402, 0.045597628, 0.011...</td>\n",
       "      <td>[0, 17, 43, 46, 48, 64, 83, 139, 147, 148, 176...</td>\n",
       "      <td>[2, 1, 1, 1, 1, 1, 1, 1, 1, 1, 1, 1, 1, 1, 1, ...</td>\n",
       "      <td>[0, 12, 29, 46, 58, 64, 71, 80, 103, 110, 113,...</td>\n",
       "      <td>[4, 1, 1, 2, 1, 1, 1, 1, 1, 2, 1, 3, 1, 1, 11,...</td>\n",
       "    </tr>\n",
       "    <tr>\n",
       "      <th>3</th>\n",
       "      <td>effect</td>\n",
       "      <td>[0.02572836, -0.04476785, 0.08602881, 0.021475...</td>\n",
       "      <td>[0, 66, 112, 179, 212, 214, 254, 272, 282, 306...</td>\n",
       "      <td>[1, 1, 1, 1, 1, 1, 1, 1, 1, 1, 1, 1, 1, 1, 1, ...</td>\n",
       "      <td>[0, 9, 20, 36, 42, 45, 50, 56, 94, 95, 97, 98,...</td>\n",
       "      <td>[1, 3, 1, 1, 1, 2, 1, 1, 2, 1, 1, 1, 1, 2, 1, ...</td>\n",
       "    </tr>\n",
       "    <tr>\n",
       "      <th>4</th>\n",
       "      <td>irradiation</td>\n",
       "      <td>[-0.06503463, -0.026481334, -0.09190224, 0.058...</td>\n",
       "      <td>[0, 7634, 9114, 10385, 15439, 18131, 23085, 26...</td>\n",
       "      <td>[1, 1, 1, 1, 1, 1, 1, 1, 1, 1, 1, 1, 1, 1, 1, ...</td>\n",
       "      <td>[0, 1010, 1499, 2931, 3043, 3209, 3890, 3991, ...</td>\n",
       "      <td>[3, 2, 1, 3, 3, 1, 1, 1, 1, 1, 1, 2, 2, 1, 1, ...</td>\n",
       "    </tr>\n",
       "    <tr>\n",
       "      <th>...</th>\n",
       "      <td>...</td>\n",
       "      <td>...</td>\n",
       "      <td>...</td>\n",
       "      <td>...</td>\n",
       "      <td>...</td>\n",
       "      <td>...</td>\n",
       "    </tr>\n",
       "    <tr>\n",
       "      <th>195</th>\n",
       "      <td>comparing</td>\n",
       "      <td>[-0.08076957, 0.03614981, 0.114069834, -0.0314...</td>\n",
       "      <td>[354, 2442, 3392, 3714, 3941, 4634, 5124, 5675...</td>\n",
       "      <td>[1, 1, 1, 1, 1, 1, 1, 1, 1, 1, 1, 1, 1, 1, 1, ...</td>\n",
       "      <td>[3, 39, 40, 49, 169, 311, 398, 424, 501, 546, ...</td>\n",
       "      <td>[1, 1, 1, 1, 1, 3, 1, 1, 1, 1, 1, 2, 1, 1, 1, ...</td>\n",
       "    </tr>\n",
       "    <tr>\n",
       "      <th>196</th>\n",
       "      <td>control</td>\n",
       "      <td>[-0.014136143, 0.011310937, 0.10728728, 0.1120...</td>\n",
       "      <td>[27, 69, 104, 189, 291, 366, 381, 427, 443, 51...</td>\n",
       "      <td>[1, 1, 1, 1, 1, 1, 1, 1, 1, 1, 1, 1, 1, 1, 1, ...</td>\n",
       "      <td>[3, 13, 20, 21, 29, 31, 44, 45, 46, 52, 61, 69...</td>\n",
       "      <td>[2, 2, 1, 2, 1, 1, 1, 1, 1, 1, 2, 1, 3, 1, 1, ...</td>\n",
       "    </tr>\n",
       "    <tr>\n",
       "      <th>197</th>\n",
       "      <td>corrected</td>\n",
       "      <td>[-0.0103761405, -0.09585484, 0.023310648, 0.00...</td>\n",
       "      <td>[]</td>\n",
       "      <td>[]</td>\n",
       "      <td>[3, 63, 194, 213, 729, 862, 1594, 1774, 1965, ...</td>\n",
       "      <td>[1, 1, 1, 1, 1, 1, 1, 1, 2, 1, 1, 1, 1, 1, 1, ...</td>\n",
       "    </tr>\n",
       "    <tr>\n",
       "      <th>198</th>\n",
       "      <td>densely</td>\n",
       "      <td>[0.119187966, 0.05651849, 0.01665073, 0.125952...</td>\n",
       "      <td>[32978]</td>\n",
       "      <td>[1]</td>\n",
       "      <td>[3, 986, 2449, 2711, 2842, 3393, 3644, 3826, 6...</td>\n",
       "      <td>[1, 1, 1, 1, 1, 1, 1, 3, 1, 1, 1, 1, 1, 1, 1, ...</td>\n",
       "    </tr>\n",
       "    <tr>\n",
       "      <th>199</th>\n",
       "      <td>disease</td>\n",
       "      <td>[-0.029798122, 0.04626357, 0.03311946, -0.0833...</td>\n",
       "      <td>[67, 83, 85, 105, 109, 122, 143, 164, 165, 172...</td>\n",
       "      <td>[1, 1, 1, 1, 1, 1, 1, 1, 1, 1, 1, 1, 1, 1, 1, ...</td>\n",
       "      <td>[3, 4, 5, 7, 8, 11, 19, 26, 35, 42, 44, 45, 48...</td>\n",
       "      <td>[1, 2, 1, 2, 1, 1, 2, 2, 1, 1, 1, 3, 1, 1, 1, ...</td>\n",
       "    </tr>\n",
       "  </tbody>\n",
       "</table>\n",
       "<p>200 rows × 6 columns</p>\n",
       "</div>"
      ],
      "text/plain": [
       "           token                                       token vector  \\\n",
       "0       airborne  [-0.02631762, 0.028373985, -0.038450412, -0.06...   \n",
       "1          assay  [0.09331236, -0.068221055, -0.0042497874, 0.09...   \n",
       "2      detection  [0.0061361627, -0.13328402, 0.045597628, 0.011...   \n",
       "3         effect  [0.02572836, -0.04476785, 0.08602881, 0.021475...   \n",
       "4    irradiation  [-0.06503463, -0.026481334, -0.09190224, 0.058...   \n",
       "..           ...                                                ...   \n",
       "195    comparing  [-0.08076957, 0.03614981, 0.114069834, -0.0314...   \n",
       "196      control  [-0.014136143, 0.011310937, 0.10728728, 0.1120...   \n",
       "197    corrected  [-0.0103761405, -0.09585484, 0.023310648, 0.00...   \n",
       "198      densely  [0.119187966, 0.05651849, 0.01665073, 0.125952...   \n",
       "199      disease  [-0.029798122, 0.04626357, 0.03311946, -0.0833...   \n",
       "\n",
       "                                                 title  \\\n",
       "0    [0, 769, 1850, 1887, 1904, 2169, 3153, 4398, 4...   \n",
       "1    [0, 46, 48, 76, 148, 215, 294, 523, 551, 583, ...   \n",
       "2    [0, 17, 43, 46, 48, 64, 83, 139, 147, 148, 176...   \n",
       "3    [0, 66, 112, 179, 212, 214, 254, 272, 282, 306...   \n",
       "4    [0, 7634, 9114, 10385, 15439, 18131, 23085, 26...   \n",
       "..                                                 ...   \n",
       "195  [354, 2442, 3392, 3714, 3941, 4634, 5124, 5675...   \n",
       "196  [27, 69, 104, 189, 291, 366, 381, 427, 443, 51...   \n",
       "197                                                 []   \n",
       "198                                            [32978]   \n",
       "199  [67, 83, 85, 105, 109, 122, 143, 164, 165, 172...   \n",
       "\n",
       "                                              title TF  \\\n",
       "0    [1, 1, 1, 1, 1, 1, 1, 1, 2, 1, 1, 1, 1, 1, 1, ...   \n",
       "1    [1, 1, 1, 1, 1, 1, 1, 1, 1, 1, 1, 1, 1, 1, 1, ...   \n",
       "2    [2, 1, 1, 1, 1, 1, 1, 1, 1, 1, 1, 1, 1, 1, 1, ...   \n",
       "3    [1, 1, 1, 1, 1, 1, 1, 1, 1, 1, 1, 1, 1, 1, 1, ...   \n",
       "4    [1, 1, 1, 1, 1, 1, 1, 1, 1, 1, 1, 1, 1, 1, 1, ...   \n",
       "..                                                 ...   \n",
       "195  [1, 1, 1, 1, 1, 1, 1, 1, 1, 1, 1, 1, 1, 1, 1, ...   \n",
       "196  [1, 1, 1, 1, 1, 1, 1, 1, 1, 1, 1, 1, 1, 1, 1, ...   \n",
       "197                                                 []   \n",
       "198                                                [1]   \n",
       "199  [1, 1, 1, 1, 1, 1, 1, 1, 1, 1, 1, 1, 1, 1, 1, ...   \n",
       "\n",
       "                                              abstract  \\\n",
       "0    [0, 769, 863, 1161, 1390, 1850, 1904, 2169, 23...   \n",
       "1    [0, 26, 46, 48, 70, 76, 84, 93, 101, 119, 128,...   \n",
       "2    [0, 12, 29, 46, 58, 64, 71, 80, 103, 110, 113,...   \n",
       "3    [0, 9, 20, 36, 42, 45, 50, 56, 94, 95, 97, 98,...   \n",
       "4    [0, 1010, 1499, 2931, 3043, 3209, 3890, 3991, ...   \n",
       "..                                                 ...   \n",
       "195  [3, 39, 40, 49, 169, 311, 398, 424, 501, 546, ...   \n",
       "196  [3, 13, 20, 21, 29, 31, 44, 45, 46, 52, 61, 69...   \n",
       "197  [3, 63, 194, 213, 729, 862, 1594, 1774, 1965, ...   \n",
       "198  [3, 986, 2449, 2711, 2842, 3393, 3644, 3826, 6...   \n",
       "199  [3, 4, 5, 7, 8, 11, 19, 26, 35, 42, 44, 45, 48...   \n",
       "\n",
       "                                           abstract TF  \n",
       "0    [3, 1, 2, 1, 1, 5, 1, 6, 2, 1, 2, 4, 5, 1, 1, ...  \n",
       "1    [1, 2, 2, 1, 2, 2, 1, 2, 1, 4, 1, 1, 1, 6, 9, ...  \n",
       "2    [4, 1, 1, 2, 1, 1, 1, 1, 1, 2, 1, 3, 1, 1, 11,...  \n",
       "3    [1, 3, 1, 1, 1, 2, 1, 1, 2, 1, 1, 1, 1, 2, 1, ...  \n",
       "4    [3, 2, 1, 3, 3, 1, 1, 1, 1, 1, 1, 2, 2, 1, 1, ...  \n",
       "..                                                 ...  \n",
       "195  [1, 1, 1, 1, 1, 3, 1, 1, 1, 1, 1, 2, 1, 1, 1, ...  \n",
       "196  [2, 2, 1, 2, 1, 1, 1, 1, 1, 1, 2, 1, 3, 1, 1, ...  \n",
       "197  [1, 1, 1, 1, 1, 1, 1, 1, 2, 1, 1, 1, 1, 1, 1, ...  \n",
       "198  [1, 1, 1, 1, 1, 1, 1, 3, 1, 1, 1, 1, 1, 1, 1, ...  \n",
       "199  [1, 2, 1, 2, 1, 1, 2, 2, 1, 1, 1, 3, 1, 1, 1, ...  \n",
       "\n",
       "[200 rows x 6 columns]"
      ]
     },
     "execution_count": 36,
     "metadata": {},
     "output_type": "execute_result"
    }
   ],
   "source": [
    "index_df.head(200)"
   ]
  },
  {
   "cell_type": "code",
   "execution_count": 12,
   "metadata": {},
   "outputs": [],
   "source": [
    "engine = SearchEngine(index=index_df, documents_df=documents_df, columns=text_cols)"
   ]
  },
  {
   "cell_type": "code",
   "execution_count": 30,
   "metadata": {},
   "outputs": [],
   "source": [
    "query = \"covid incubation time\""
   ]
  },
  {
   "cell_type": "code",
   "execution_count": 31,
   "metadata": {},
   "outputs": [
    {
     "name": "stderr",
     "output_type": "stream",
     "text": [
      "D:\\Projects\\HSE\\Hybrid-Search-Engine\\hybrid_search_engine\\search_engine.py:121: RuntimeWarning: invalid value encountered in true_divide\n",
      "  v = np.array([c / np.linalg.norm(c) for c in v])\n"
     ]
    }
   ],
   "source": [
    "result = engine.find(query=query)"
   ]
  },
  {
   "cell_type": "code",
   "execution_count": 32,
   "metadata": {},
   "outputs": [
    {
     "data": {
      "text/html": [
       "<div>\n",
       "<style scoped>\n",
       "    .dataframe tbody tr th:only-of-type {\n",
       "        vertical-align: middle;\n",
       "    }\n",
       "\n",
       "    .dataframe tbody tr th {\n",
       "        vertical-align: top;\n",
       "    }\n",
       "\n",
       "    .dataframe thead th {\n",
       "        text-align: right;\n",
       "    }\n",
       "</style>\n",
       "<table border=\"1\" class=\"dataframe\">\n",
       "  <thead>\n",
       "    <tr style=\"text-align: right;\">\n",
       "      <th></th>\n",
       "      <th>similarity</th>\n",
       "    </tr>\n",
       "    <tr>\n",
       "      <th>document_id</th>\n",
       "      <th></th>\n",
       "    </tr>\n",
       "  </thead>\n",
       "  <tbody>\n",
       "    <tr>\n",
       "      <th>vkgnwxzc</th>\n",
       "      <td>4.990220</td>\n",
       "    </tr>\n",
       "    <tr>\n",
       "      <th>5u0i6kue</th>\n",
       "      <td>4.345570</td>\n",
       "    </tr>\n",
       "    <tr>\n",
       "      <th>it4ka7v0</th>\n",
       "      <td>4.144834</td>\n",
       "    </tr>\n",
       "    <tr>\n",
       "      <th>4h9j9bw2</th>\n",
       "      <td>3.852806</td>\n",
       "    </tr>\n",
       "    <tr>\n",
       "      <th>slapc5xt</th>\n",
       "      <td>3.522650</td>\n",
       "    </tr>\n",
       "    <tr>\n",
       "      <th>...</th>\n",
       "      <td>...</td>\n",
       "    </tr>\n",
       "    <tr>\n",
       "      <th>ej3xqpc0</th>\n",
       "      <td>0.040153</td>\n",
       "    </tr>\n",
       "    <tr>\n",
       "      <th>81sx505i</th>\n",
       "      <td>0.039895</td>\n",
       "    </tr>\n",
       "    <tr>\n",
       "      <th>bjwohra0</th>\n",
       "      <td>0.037741</td>\n",
       "    </tr>\n",
       "    <tr>\n",
       "      <th>nq0qe8qf</th>\n",
       "      <td>0.032852</td>\n",
       "    </tr>\n",
       "    <tr>\n",
       "      <th>gvh0wdxn</th>\n",
       "      <td>0.016578</td>\n",
       "    </tr>\n",
       "  </tbody>\n",
       "</table>\n",
       "<p>10577 rows × 1 columns</p>\n",
       "</div>"
      ],
      "text/plain": [
       "             similarity\n",
       "document_id            \n",
       "vkgnwxzc       4.990220\n",
       "5u0i6kue       4.345570\n",
       "it4ka7v0       4.144834\n",
       "4h9j9bw2       3.852806\n",
       "slapc5xt       3.522650\n",
       "...                 ...\n",
       "ej3xqpc0       0.040153\n",
       "81sx505i       0.039895\n",
       "bjwohra0       0.037741\n",
       "nq0qe8qf       0.032852\n",
       "gvh0wdxn       0.016578\n",
       "\n",
       "[10577 rows x 1 columns]"
      ]
     },
     "execution_count": 32,
     "metadata": {},
     "output_type": "execute_result"
    }
   ],
   "source": [
    "result"
   ]
  },
  {
   "cell_type": "code",
   "execution_count": 33,
   "metadata": {},
   "outputs": [
    {
     "data": {
      "text/plain": [
       "array(['Motivation: Wuhan pneumonia is an acute infectious disease caused by the 2019 novel coronavirus (COVID-19). It is being treated as a Class A infectious disease though it was classified as Class B according to the Infectious Disease Prevention Act of China. Accurate estimation of the incubation period of the coronavirus is essential to the prevention and control. However, it remains unclear about its exact incubation period though it is believed that symptoms of COVID-19 can appear in as few as 2 days or as long as 14 or even more after exposure. The accurate incubation period calculation requires original chain-of-infection data that may not be fully available in the Wuhan regions. In this study, we aim to accurately calculate the incubation period of COVID-19 by taking advantage of the chain-of-infection data, which is well-documented and epidemiologically informative, outside the Wuhan regions. Methods: We acquired and collected officially reported COVID-19 data from 10 regions in China except for Hubei province. To achieve the accurate calculation of the incubation period, we only involved the officially confirmed cases with a clear history of exposure and time of onset. We excluded those without relevant epidemiological descriptions, working or living in Wuhan for a long time, or hard to determine the possible exposure time. We proposed a Monte Caro simulation approach to estimate the incubation of COVID-19 as well as employed nonparametric ways. We also employed manifold learning and related statistical analysis to decipher the incubation relationships between different age/gender groups. Result: The incubation period of COVID-19 did not follow general incubation distributions such as lognormal, Weibull, and Gamma distributions. We estimated that the mean and median of its incubation were 5.84 and 5.0 days via bootstrap and proposed Monte Carlo simulations. We found that the incubation periods of the groups with age>=40 years and age<40 years demonstrated a statistically significant difference. The former group had a longer incubation period and a larger variance than the latter. It further suggested that different quarantine time should be applied to the groups for their different incubation periods. Our machine learning analysis also showed that the two groups were linearly separable. incubation of COVID-19 along with previous statistical analysis. Our results further indicated that the incubation difference between males and females did not demonstrate a statistical significance.'],\n",
       "      dtype=object)"
      ]
     },
     "execution_count": 33,
     "metadata": {},
     "output_type": "execute_result"
    }
   ],
   "source": [
    "meta_df.loc[meta_df[\"cord_uid\"] == \"vkgnwxzc\"][\"abstract\"].values"
   ]
  },
  {
   "cell_type": "code",
   "execution_count": null,
   "metadata": {},
   "outputs": [],
   "source": [
    "sample_df.loc[result.index.values.tolist()][\"abstract\"][0]"
   ]
  },
  {
   "cell_type": "code",
   "execution_count": null,
   "metadata": {},
   "outputs": [],
   "source": [
    "engine.nlp_engine(\"covid\").vector"
   ]
  },
  {
   "cell_type": "code",
   "execution_count": null,
   "metadata": {},
   "outputs": [],
   "source": [
    "engine.nlp_engine(\"sars\").vector"
   ]
  },
  {
   "cell_type": "code",
   "execution_count": null,
   "metadata": {},
   "outputs": [],
   "source": [
    "engine.nlp_engine(\"virus\").similarity(engine.nlp_engine(\"virion\"))"
   ]
  },
  {
   "cell_type": "code",
   "execution_count": null,
   "metadata": {},
   "outputs": [],
   "source": [
    "from hybrid_search_engine.utils import text_processing as processing"
   ]
  },
  {
   "cell_type": "code",
   "execution_count": null,
   "metadata": {},
   "outputs": [],
   "source": [
    "processing.split_camel_case(\"COVID\")"
   ]
  },
  {
   "cell_type": "code",
   "execution_count": null,
   "metadata": {},
   "outputs": [],
   "source": [
    "processing.process_string(\"COVID\")"
   ]
  },
  {
   "cell_type": "code",
   "execution_count": null,
   "metadata": {},
   "outputs": [],
   "source": [
    "processing.process_string(\"covid\")"
   ]
  },
  {
   "cell_type": "code",
   "execution_count": null,
   "metadata": {},
   "outputs": [],
   "source": [
    "index_df[\"token\"]"
   ]
  },
  {
   "cell_type": "code",
   "execution_count": null,
   "metadata": {},
   "outputs": [],
   "source": [
    "import spacy\n",
    "\n",
    "from scispacy.abbreviation import AbbreviationDetector\n",
    "\n",
    "nlp = spacy.load(\"en_core_sci_lg\")"
   ]
  },
  {
   "cell_type": "code",
   "execution_count": null,
   "metadata": {},
   "outputs": [],
   "source": [
    "abbradd_pipeiation_pipe = AbbreviationDetector(nlp)\n",
    "nlp.add_pipe(abbreviation_pipe)"
   ]
  },
  {
   "cell_type": "code",
   "execution_count": null,
   "metadata": {},
   "outputs": [],
   "source": [
    "doc = nlp(\"Spinal and bulbar muscular atrophy (SBMA) is an \\\n",
    "           inherited motor neuron disease caused by the expansion \\\n",
    "           of a polyglutamine tract within the androgen receptor (AR). \\\n",
    "           SBMA can be caused by this easily.\")\n",
    "\n",
    "print(\"Abbreviation\", \"\\t\", \"Definition\")\n",
    "for abrv in doc._.abbreviations:\n",
    "    print(f\"{abrv} \\t ({abrv.start}, {abrv.end}) {abrv._.long_form}\")"
   ]
  },
  {
   "cell_type": "code",
   "execution_count": null,
   "metadata": {},
   "outputs": [],
   "source": [
    "s = \"Dual Clutch Transimission (HJKLK) is a racing spec gearbox for faster gear shifting\""
   ]
  },
  {
   "cell_type": "code",
   "execution_count": null,
   "metadata": {},
   "outputs": [],
   "source": [
    "s = \"Coronavirus Desease (COVID) is very infectious desease\""
   ]
  },
  {
   "cell_type": "code",
   "execution_count": null,
   "metadata": {},
   "outputs": [],
   "source": [
    "doc = nlp(s)\n",
    "\n",
    "print(\"Abbreviation\", \"\\t\", \"Definition\")\n",
    "for abrv in doc._.abbreviations:\n",
    "    print(f\"{abrv} \\t ({abrv.start}, {abrv.end}) {abrv._.long_form}\")"
   ]
  },
  {
   "cell_type": "code",
   "execution_count": null,
   "metadata": {},
   "outputs": [],
   "source": [
    "doc"
   ]
  },
  {
   "cell_type": "code",
   "execution_count": null,
   "metadata": {},
   "outputs": [],
   "source": [
    "doc.vector"
   ]
  },
  {
   "cell_type": "code",
   "execution_count": null,
   "metadata": {},
   "outputs": [],
   "source": [
    "nlp(\"\").vector.shape[0]"
   ]
  },
  {
   "cell_type": "code",
   "execution_count": 26,
   "metadata": {},
   "outputs": [
    {
     "data": {
      "text/plain": [
       "True"
      ]
     },
     "execution_count": 26,
     "metadata": {},
     "output_type": "execute_result"
    }
   ],
   "source": [
    "\"ncov\" in engine.nlp_engine.vocab"
   ]
  },
  {
   "cell_type": "code",
   "execution_count": 27,
   "metadata": {},
   "outputs": [
    {
     "data": {
      "text/plain": [
       "True"
      ]
     },
     "execution_count": 27,
     "metadata": {},
     "output_type": "execute_result"
    }
   ],
   "source": [
    "\"sars\" in engine.nlp_engine.vocab"
   ]
  },
  {
   "cell_type": "code",
   "execution_count": 29,
   "metadata": {},
   "outputs": [
    {
     "data": {
      "text/plain": [
       "array([0., 0., 0., 0., 0., 0., 0., 0., 0., 0., 0., 0., 0., 0., 0., 0., 0.,\n",
       "       0., 0., 0., 0., 0., 0., 0., 0., 0., 0., 0., 0., 0., 0., 0., 0., 0.,\n",
       "       0., 0., 0., 0., 0., 0., 0., 0., 0., 0., 0., 0., 0., 0., 0., 0., 0.,\n",
       "       0., 0., 0., 0., 0., 0., 0., 0., 0., 0., 0., 0., 0., 0., 0., 0., 0.,\n",
       "       0., 0., 0., 0., 0., 0., 0., 0., 0., 0., 0., 0., 0., 0., 0., 0., 0.,\n",
       "       0., 0., 0., 0., 0., 0., 0., 0., 0., 0., 0., 0., 0., 0., 0., 0., 0.,\n",
       "       0., 0., 0., 0., 0., 0., 0., 0., 0., 0., 0., 0., 0., 0., 0., 0., 0.,\n",
       "       0., 0., 0., 0., 0., 0., 0., 0., 0., 0., 0., 0., 0., 0., 0., 0., 0.,\n",
       "       0., 0., 0., 0., 0., 0., 0., 0., 0., 0., 0., 0., 0., 0., 0., 0., 0.,\n",
       "       0., 0., 0., 0., 0., 0., 0., 0., 0., 0., 0., 0., 0., 0., 0., 0., 0.,\n",
       "       0., 0., 0., 0., 0., 0., 0., 0., 0., 0., 0., 0., 0., 0., 0., 0., 0.,\n",
       "       0., 0., 0., 0., 0., 0., 0., 0., 0., 0., 0., 0., 0.], dtype=float32)"
      ]
     },
     "execution_count": 29,
     "metadata": {},
     "output_type": "execute_result"
    }
   ],
   "source": [
    "engine.nlp_engine(\"sars\").vector"
   ]
  },
  {
   "cell_type": "code",
   "execution_count": null,
   "metadata": {},
   "outputs": [],
   "source": [
    "if token not in nlp or np.isclose(nlp(token).vector, np.zeros(200)):\n",
    "    pass"
   ]
  }
 ],
 "metadata": {
  "kernelspec": {
   "display_name": "Python 3",
   "language": "python",
   "name": "python3"
  },
  "language_info": {
   "codemirror_mode": {
    "name": "ipython",
    "version": 3
   },
   "file_extension": ".py",
   "mimetype": "text/x-python",
   "name": "python",
   "nbconvert_exporter": "python",
   "pygments_lexer": "ipython3",
   "version": "3.7.4"
  }
 },
 "nbformat": 4,
 "nbformat_minor": 4
}
